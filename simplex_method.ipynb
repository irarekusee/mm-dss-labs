{
  "nbformat": 4,
  "nbformat_minor": 0,
  "metadata": {
    "colab": {
      "provenance": []
    },
    "kernelspec": {
      "name": "python3",
      "display_name": "Python 3"
    },
    "language_info": {
      "name": "python"
    }
  },
  "cells": [
    {
      "cell_type": "code",
      "execution_count": 2,
      "metadata": {
        "id": "sJ0r8Arg9XUK"
      },
      "outputs": [],
      "source": [
        "import numpy as np\n",
        "import pandas as pd\n",
        "\n",
        "import math\n",
        "\n",
        "import warnings\n",
        "warnings.filterwarnings('ignore')"
      ]
    },
    {
      "cell_type": "markdown",
      "source": [
        "##Чтение данных"
      ],
      "metadata": {
        "id": "2E4nN98iE6ng"
      }
    },
    {
      "cell_type": "code",
      "source": [
        "from google.colab import files\n",
        "files.upload()"
      ],
      "metadata": {
        "colab": {
          "base_uri": "https://localhost:8080/",
          "height": 109
        },
        "id": "r7kuBz_Orc61",
        "outputId": "55f27bb2-ed54-41b6-b186-d00146905f49"
      },
      "execution_count": 1,
      "outputs": [
        {
          "output_type": "display_data",
          "data": {
            "text/plain": [
              "<IPython.core.display.HTML object>"
            ],
            "text/html": [
              "\n",
              "     <input type=\"file\" id=\"files-738b3fa9-6ed0-4fbf-9990-c219ba2b2d77\" name=\"files[]\" multiple disabled\n",
              "        style=\"border:none\" />\n",
              "     <output id=\"result-738b3fa9-6ed0-4fbf-9990-c219ba2b2d77\">\n",
              "      Upload widget is only available when the cell has been executed in the\n",
              "      current browser session. Please rerun this cell to enable.\n",
              "      </output>\n",
              "      <script>// Copyright 2017 Google LLC\n",
              "//\n",
              "// Licensed under the Apache License, Version 2.0 (the \"License\");\n",
              "// you may not use this file except in compliance with the License.\n",
              "// You may obtain a copy of the License at\n",
              "//\n",
              "//      http://www.apache.org/licenses/LICENSE-2.0\n",
              "//\n",
              "// Unless required by applicable law or agreed to in writing, software\n",
              "// distributed under the License is distributed on an \"AS IS\" BASIS,\n",
              "// WITHOUT WARRANTIES OR CONDITIONS OF ANY KIND, either express or implied.\n",
              "// See the License for the specific language governing permissions and\n",
              "// limitations under the License.\n",
              "\n",
              "/**\n",
              " * @fileoverview Helpers for google.colab Python module.\n",
              " */\n",
              "(function(scope) {\n",
              "function span(text, styleAttributes = {}) {\n",
              "  const element = document.createElement('span');\n",
              "  element.textContent = text;\n",
              "  for (const key of Object.keys(styleAttributes)) {\n",
              "    element.style[key] = styleAttributes[key];\n",
              "  }\n",
              "  return element;\n",
              "}\n",
              "\n",
              "// Max number of bytes which will be uploaded at a time.\n",
              "const MAX_PAYLOAD_SIZE = 100 * 1024;\n",
              "\n",
              "function _uploadFiles(inputId, outputId) {\n",
              "  const steps = uploadFilesStep(inputId, outputId);\n",
              "  const outputElement = document.getElementById(outputId);\n",
              "  // Cache steps on the outputElement to make it available for the next call\n",
              "  // to uploadFilesContinue from Python.\n",
              "  outputElement.steps = steps;\n",
              "\n",
              "  return _uploadFilesContinue(outputId);\n",
              "}\n",
              "\n",
              "// This is roughly an async generator (not supported in the browser yet),\n",
              "// where there are multiple asynchronous steps and the Python side is going\n",
              "// to poll for completion of each step.\n",
              "// This uses a Promise to block the python side on completion of each step,\n",
              "// then passes the result of the previous step as the input to the next step.\n",
              "function _uploadFilesContinue(outputId) {\n",
              "  const outputElement = document.getElementById(outputId);\n",
              "  const steps = outputElement.steps;\n",
              "\n",
              "  const next = steps.next(outputElement.lastPromiseValue);\n",
              "  return Promise.resolve(next.value.promise).then((value) => {\n",
              "    // Cache the last promise value to make it available to the next\n",
              "    // step of the generator.\n",
              "    outputElement.lastPromiseValue = value;\n",
              "    return next.value.response;\n",
              "  });\n",
              "}\n",
              "\n",
              "/**\n",
              " * Generator function which is called between each async step of the upload\n",
              " * process.\n",
              " * @param {string} inputId Element ID of the input file picker element.\n",
              " * @param {string} outputId Element ID of the output display.\n",
              " * @return {!Iterable<!Object>} Iterable of next steps.\n",
              " */\n",
              "function* uploadFilesStep(inputId, outputId) {\n",
              "  const inputElement = document.getElementById(inputId);\n",
              "  inputElement.disabled = false;\n",
              "\n",
              "  const outputElement = document.getElementById(outputId);\n",
              "  outputElement.innerHTML = '';\n",
              "\n",
              "  const pickedPromise = new Promise((resolve) => {\n",
              "    inputElement.addEventListener('change', (e) => {\n",
              "      resolve(e.target.files);\n",
              "    });\n",
              "  });\n",
              "\n",
              "  const cancel = document.createElement('button');\n",
              "  inputElement.parentElement.appendChild(cancel);\n",
              "  cancel.textContent = 'Cancel upload';\n",
              "  const cancelPromise = new Promise((resolve) => {\n",
              "    cancel.onclick = () => {\n",
              "      resolve(null);\n",
              "    };\n",
              "  });\n",
              "\n",
              "  // Wait for the user to pick the files.\n",
              "  const files = yield {\n",
              "    promise: Promise.race([pickedPromise, cancelPromise]),\n",
              "    response: {\n",
              "      action: 'starting',\n",
              "    }\n",
              "  };\n",
              "\n",
              "  cancel.remove();\n",
              "\n",
              "  // Disable the input element since further picks are not allowed.\n",
              "  inputElement.disabled = true;\n",
              "\n",
              "  if (!files) {\n",
              "    return {\n",
              "      response: {\n",
              "        action: 'complete',\n",
              "      }\n",
              "    };\n",
              "  }\n",
              "\n",
              "  for (const file of files) {\n",
              "    const li = document.createElement('li');\n",
              "    li.append(span(file.name, {fontWeight: 'bold'}));\n",
              "    li.append(span(\n",
              "        `(${file.type || 'n/a'}) - ${file.size} bytes, ` +\n",
              "        `last modified: ${\n",
              "            file.lastModifiedDate ? file.lastModifiedDate.toLocaleDateString() :\n",
              "                                    'n/a'} - `));\n",
              "    const percent = span('0% done');\n",
              "    li.appendChild(percent);\n",
              "\n",
              "    outputElement.appendChild(li);\n",
              "\n",
              "    const fileDataPromise = new Promise((resolve) => {\n",
              "      const reader = new FileReader();\n",
              "      reader.onload = (e) => {\n",
              "        resolve(e.target.result);\n",
              "      };\n",
              "      reader.readAsArrayBuffer(file);\n",
              "    });\n",
              "    // Wait for the data to be ready.\n",
              "    let fileData = yield {\n",
              "      promise: fileDataPromise,\n",
              "      response: {\n",
              "        action: 'continue',\n",
              "      }\n",
              "    };\n",
              "\n",
              "    // Use a chunked sending to avoid message size limits. See b/62115660.\n",
              "    let position = 0;\n",
              "    do {\n",
              "      const length = Math.min(fileData.byteLength - position, MAX_PAYLOAD_SIZE);\n",
              "      const chunk = new Uint8Array(fileData, position, length);\n",
              "      position += length;\n",
              "\n",
              "      const base64 = btoa(String.fromCharCode.apply(null, chunk));\n",
              "      yield {\n",
              "        response: {\n",
              "          action: 'append',\n",
              "          file: file.name,\n",
              "          data: base64,\n",
              "        },\n",
              "      };\n",
              "\n",
              "      let percentDone = fileData.byteLength === 0 ?\n",
              "          100 :\n",
              "          Math.round((position / fileData.byteLength) * 100);\n",
              "      percent.textContent = `${percentDone}% done`;\n",
              "\n",
              "    } while (position < fileData.byteLength);\n",
              "  }\n",
              "\n",
              "  // All done.\n",
              "  yield {\n",
              "    response: {\n",
              "      action: 'complete',\n",
              "    }\n",
              "  };\n",
              "}\n",
              "\n",
              "scope.google = scope.google || {};\n",
              "scope.google.colab = scope.google.colab || {};\n",
              "scope.google.colab._files = {\n",
              "  _uploadFiles,\n",
              "  _uploadFilesContinue,\n",
              "};\n",
              "})(self);\n",
              "</script> "
            ]
          },
          "metadata": {}
        },
        {
          "output_type": "stream",
          "name": "stdout",
          "text": [
            "Saving data.txt to data.txt\n"
          ]
        },
        {
          "output_type": "execute_result",
          "data": {
            "text/plain": [
              "{'data.txt': b'2x1 + 3x2 -> max\\nx1 + 5x2 \\xe2\\x89\\xa4 290\\n2x1 + 4x2 \\xe2\\x89\\xa4 430\\n4x1 + x2 \\xe2\\x89\\xa4 360\\nx1 \\xe2\\x89\\xa5 0\\nx2 \\xe2\\x89\\xa5 0\\n'}"
            ]
          },
          "metadata": {},
          "execution_count": 1
        }
      ]
    },
    {
      "cell_type": "code",
      "source": [
        "opt_dir = 0\n",
        "f, A, b, b_signs = [], [], [], []\n",
        "\n",
        "with open('data.txt', 'r') as fd:\n",
        "  obj_func = fd.readline()\n",
        "  if obj_func[-4:] == 'max\\n':\n",
        "    opt_dir = 1\n",
        "  f_x1 = obj_func[:obj_func.find('x1')]\n",
        "  if f_x1 == \"\": f_x1 = 1\n",
        "  tmp = obj_func[:obj_func.find('x2')]\n",
        "  f_x2 = tmp[obj_func.find('+')+2:]\n",
        "  if f_x2 == \"\": f_x2 = 1\n",
        "  f.append(int(f_x1))\n",
        "  f.append(int(f_x2))\n",
        "\n",
        "  print(obj_func, end='')\n",
        "\n",
        "  bnd = fd.readline()\n",
        "  while bnd:\n",
        "    print(bnd, end='')\n",
        "\n",
        "    sign = bnd.find('≤')\n",
        "\n",
        "    x1_idx = bnd.find('x1')\n",
        "    x2_idx = bnd.find('x2')\n",
        "    if (x1_idx != -1) and (x2_idx != -1):\n",
        "      coef_x1 = bnd[:x1_idx]\n",
        "      if coef_x1 == \"\":\n",
        "        coef_x1 = 1\n",
        "\n",
        "      coef_x2 = bnd[:x2_idx]\n",
        "      x2_idx = coef_x2.find('+')\n",
        "      coef_x2 = coef_x2[x2_idx+2:]\n",
        "      if coef_x2 == \"\":\n",
        "        coef_x2 = 1\n",
        "\n",
        "      if sign != -1:\n",
        "        A.append([int(coef_x1), int(coef_x2)])\n",
        "        b_val = bnd[sign+2:len(bnd)-1]\n",
        "        b.append(int(b_val))\n",
        "        b_signs.append('lt')\n",
        "      else:\n",
        "        A.append([-int(coef_x1), -int(coef_x2)])\n",
        "        b.append(-int(bnd[bnd.find('≥')+2:len(bnd)-1]))\n",
        "        b_signs.append('gt')\n",
        "\n",
        "    bnd = fd.readline()"
      ],
      "metadata": {
        "colab": {
          "base_uri": "https://localhost:8080/"
        },
        "id": "Qt0d3qq7sgYu",
        "outputId": "d855c6dd-d55f-46eb-d7b0-5d0065e39247"
      },
      "execution_count": 16,
      "outputs": [
        {
          "output_type": "stream",
          "name": "stdout",
          "text": [
            "2x1 + 3x2 -> max\n",
            "x1 + 5x2 ≤ 290\n",
            "2x1 + 4x2 ≤ 430\n",
            "4x1 + x2 ≤ 360\n",
            "x1 ≥ 0\n",
            "x2 ≥ 0\n"
          ]
        }
      ]
    },
    {
      "cell_type": "code",
      "source": [
        "A = np.array(A)\n",
        "new_A = np.hstack((A, np.eye(len(b_signs))))\n",
        "for n, s in enumerate(b_signs):\n",
        "  f.append(0)\n",
        "  if s == 'gt':\n",
        "    new_A[n, n] = -1\n",
        "A = new_A.astype(int).tolist()"
      ],
      "metadata": {
        "id": "BJY_CTECK1Ig"
      },
      "execution_count": 17,
      "outputs": []
    },
    {
      "cell_type": "code",
      "source": [
        "f"
      ],
      "metadata": {
        "colab": {
          "base_uri": "https://localhost:8080/"
        },
        "id": "-J1M9F0DMm8h",
        "outputId": "516c44a6-cc78-46f7-9db0-7f013bc86a2c"
      },
      "execution_count": 18,
      "outputs": [
        {
          "output_type": "execute_result",
          "data": {
            "text/plain": [
              "[2, 3, 0, 0, 0]"
            ]
          },
          "metadata": {},
          "execution_count": 18
        }
      ]
    },
    {
      "cell_type": "code",
      "source": [
        "A"
      ],
      "metadata": {
        "colab": {
          "base_uri": "https://localhost:8080/"
        },
        "id": "LfKqlhIIMmvK",
        "outputId": "913c1ddf-ccb5-4ebf-edbb-5d4ceee402c8"
      },
      "execution_count": 19,
      "outputs": [
        {
          "output_type": "execute_result",
          "data": {
            "text/plain": [
              "[[1, 5, 1, 0, 0], [2, 4, 0, 1, 0], [4, 1, 0, 0, 1]]"
            ]
          },
          "metadata": {},
          "execution_count": 19
        }
      ]
    },
    {
      "cell_type": "code",
      "source": [
        "b"
      ],
      "metadata": {
        "colab": {
          "base_uri": "https://localhost:8080/"
        },
        "id": "g8RSugK7MmxQ",
        "outputId": "25423dd0-8d77-4681-f0c5-5bf1b99d5772"
      },
      "execution_count": 20,
      "outputs": [
        {
          "output_type": "execute_result",
          "data": {
            "text/plain": [
              "[290, 430, 360]"
            ]
          },
          "metadata": {},
          "execution_count": 20
        }
      ]
    },
    {
      "cell_type": "markdown",
      "source": [
        "##Реализация"
      ],
      "metadata": {
        "id": "ImK7oYGHFCy_"
      }
    },
    {
      "cell_type": "code",
      "source": [
        "def get_simplex_table(f, A, b):\n",
        "  xb = [eq + [x] for eq, x in zip(A, b)]\n",
        "  z = f + [0]\n",
        "  return xb + [z]"
      ],
      "metadata": {
        "id": "eaV5a1C6CRgu"
      },
      "execution_count": 21,
      "outputs": []
    },
    {
      "cell_type": "code",
      "source": [
        "def can_be_better(simplex_table):\n",
        "    z = simplex_table[-1]\n",
        "    return any(x > 0 for x in z[:-1])"
      ],
      "metadata": {
        "id": "kVwOpq4QCdLW"
      },
      "execution_count": 22,
      "outputs": []
    },
    {
      "cell_type": "code",
      "source": [
        "def get_pivot_position(simplex_table):\n",
        "    z = simplex_table[-1]\n",
        "    column = next(i for i, x in enumerate(z[:-1]) if x > 0)\n",
        "\n",
        "    restrictions = []\n",
        "    for eq in simplex_table[:-1]:\n",
        "        el = eq[column]\n",
        "        restrictions.append(math.inf if el <= 0 else eq[-1] / el)\n",
        "\n",
        "    row = restrictions.index(min(restrictions))\n",
        "    return row, column"
      ],
      "metadata": {
        "id": "lRFng24_E2ll"
      },
      "execution_count": 23,
      "outputs": []
    },
    {
      "cell_type": "code",
      "source": [
        "def simplex_step(simplex_table, pivot_position):\n",
        "    new_simplex_table = [[] for eq in simplex_table]\n",
        "\n",
        "    i, j = pivot_position\n",
        "    pivot_value = simplex_table[i][j]\n",
        "    new_simplex_table[i] = np.array(simplex_table[i]) / pivot_value\n",
        "\n",
        "    for eq_i, eq in enumerate(simplex_table):\n",
        "        if eq_i != i:\n",
        "            multiplier = np.array(new_simplex_table[i]) * simplex_table[eq_i][j]\n",
        "            new_simplex_table[eq_i] = np.array(simplex_table[eq_i]) - multiplier\n",
        "\n",
        "    return new_simplex_table"
      ],
      "metadata": {
        "id": "HoaQ4gM2E2oS"
      },
      "execution_count": 24,
      "outputs": []
    },
    {
      "cell_type": "code",
      "source": [
        "def is_basic(column):\n",
        "    return sum(column) == 1 and len([c for c in column if c == 0]) == len(column) - 1\n",
        "\n",
        "def get_solution(simplex_table):\n",
        "    columns = np.array(simplex_table).T\n",
        "    solutions = []\n",
        "    for column in columns:\n",
        "        solution = 0\n",
        "        if is_basic(column):\n",
        "            one_index = column.tolist().index(1)\n",
        "            solution = columns[-1][one_index]\n",
        "        solutions.append(solution)\n",
        "\n",
        "    return solutions"
      ],
      "metadata": {
        "id": "1rBXrS15E2ql"
      },
      "execution_count": 25,
      "outputs": []
    },
    {
      "cell_type": "code",
      "source": [
        "def simplex_method(f, A, b):\n",
        "    simplex_table = get_simplex_table(f, A, b)\n",
        "\n",
        "    while can_be_better(simplex_table):\n",
        "        pivot_position = get_pivot_position(simplex_table)\n",
        "        simplex_table = simplex_step(simplex_table, pivot_position)\n",
        "\n",
        "    return get_solution(simplex_table)"
      ],
      "metadata": {
        "id": "jA343p9yAbq1"
      },
      "execution_count": 26,
      "outputs": []
    },
    {
      "cell_type": "code",
      "source": [
        "solution = simplex_method(f, A, b)\n",
        "print('solution: ', solution[:2])"
      ],
      "metadata": {
        "colab": {
          "base_uri": "https://localhost:8080/"
        },
        "id": "u-JKFyUCJuyE",
        "outputId": "068ace99-d5bb-4608-a08f-4cc5d688402d"
      },
      "execution_count": 29,
      "outputs": [
        {
          "output_type": "stream",
          "name": "stdout",
          "text": [
            "solution:  [79.47368421052632, 42.10526315789474]\n"
          ]
        }
      ]
    },
    {
      "cell_type": "code",
      "source": [
        "print(f'objective function value: {f[0]*(solution[0]) + f[1]*(solution[1]):.2f}')"
      ],
      "metadata": {
        "colab": {
          "base_uri": "https://localhost:8080/"
        },
        "id": "rU5nZGvIKYOL",
        "outputId": "202c1a49-cc13-4ed2-9a88-3dc1284cdcf8"
      },
      "execution_count": 30,
      "outputs": [
        {
          "output_type": "stream",
          "name": "stdout",
          "text": [
            "objective function value: 285.26\n"
          ]
        }
      ]
    }
  ]
}