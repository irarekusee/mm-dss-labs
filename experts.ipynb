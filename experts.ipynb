{
  "cells": [
    {
      "cell_type": "markdown",
      "source": [
        "Обработка экспертных оценок"
      ],
      "metadata": {
        "id": "poiQcYAUm19p"
      },
      "id": "poiQcYAUm19p"
    },
    {
      "cell_type": "code",
      "execution_count": 1,
      "id": "02ebd0dd",
      "metadata": {
        "id": "02ebd0dd"
      },
      "outputs": [],
      "source": [
        "import numpy as np"
      ]
    },
    {
      "cell_type": "code",
      "execution_count": 6,
      "id": "a204a84a",
      "metadata": {
        "id": "a204a84a"
      },
      "outputs": [],
      "source": [
        "# матрица экспертных оценок (объекты-оценки)\n",
        "matrix = [[1.5, 2.0, 3.5, 3.0, 4.0],\n",
        "          [2.5, 3.0, 1.5, 2.0, 1.0],\n",
        "          [2.5, 2.0, 3.0, 3.5, 2.0],\n",
        "          [3.0, 3.5, 2.5, 4.0, 1.0]]\n",
        "\n",
        "matrix = np.array(matrix)"
      ]
    },
    {
      "cell_type": "code",
      "execution_count": 10,
      "id": "61c27672",
      "metadata": {
        "id": "61c27672"
      },
      "outputs": [],
      "source": [
        "B = matrix @ matrix.T\n",
        "C = matrix.T @ matrix"
      ]
    },
    {
      "cell_type": "code",
      "execution_count": 18,
      "id": "d39c7410",
      "metadata": {
        "id": "d39c7410"
      },
      "outputs": [],
      "source": [
        "def get_vec(matrix):\n",
        "    row_prod = np.prod(matrix, axis=0)\n",
        "    result = np.power(row_prod, 1 / matrix.shape[1])\n",
        "    return result / np.sum(result)"
      ]
    },
    {
      "cell_type": "code",
      "execution_count": 19,
      "id": "c96a84fa",
      "metadata": {
        "colab": {
          "base_uri": "https://localhost:8080/"
        },
        "id": "c96a84fa",
        "outputId": "d3e24526-7467-4ff5-d4f6-7200202087bf"
      },
      "outputs": [
        {
          "output_type": "stream",
          "name": "stdout",
          "text": [
            "Коэффициенты обобщенной оценки объектов: [0.26444534 0.19691259 0.25621166 0.28243041]\n",
            "Коэффициенты компетентности экспертов: [0.18143643 0.20049143 0.20980533 0.2475879  0.16067892]\n"
          ]
        }
      ],
      "source": [
        "print(f'Коэффициенты обобщенной оценки объектов: {get_vec(B)}')\n",
        "print(f'Коэффициенты компетентности экспертов: {get_vec(C)}')"
      ]
    }
  ],
  "metadata": {
    "kernelspec": {
      "display_name": "Python 3 (ipykernel)",
      "language": "python",
      "name": "python3"
    },
    "language_info": {
      "codemirror_mode": {
        "name": "ipython",
        "version": 3
      },
      "file_extension": ".py",
      "mimetype": "text/x-python",
      "name": "python",
      "nbconvert_exporter": "python",
      "pygments_lexer": "ipython3",
      "version": "3.9.13"
    },
    "toc": {
      "base_numbering": 1,
      "nav_menu": {},
      "number_sections": true,
      "sideBar": true,
      "skip_h1_title": true,
      "title_cell": "Table of Contents",
      "title_sidebar": "Contents",
      "toc_cell": true,
      "toc_position": {},
      "toc_section_display": true,
      "toc_window_display": false
    },
    "colab": {
      "provenance": []
    }
  },
  "nbformat": 4,
  "nbformat_minor": 5
}