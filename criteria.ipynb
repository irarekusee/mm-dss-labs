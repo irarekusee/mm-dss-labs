{
  "cells": [
    {
      "cell_type": "code",
      "source": [
        "import numpy as np\n",
        "\n",
        "rows, columns = 3, 4\n",
        "m = np.zeros((rows, columns))\n",
        "p = np.random.rand(columns)\n",
        "p /= np.sum(p)\n",
        "a = round(np.random.rand(1)[0], 2)\n",
        "for i in range(rows):\n",
        "  for j in range(columns):\n",
        "    m[i, j] = round(np.random.uniform(10.5, 75.5), 2)"
      ],
      "metadata": {
        "id": "6swC_pWd3D65"
      },
      "id": "6swC_pWd3D65",
      "execution_count": 67,
      "outputs": []
    },
    {
      "cell_type": "code",
      "source": [
        "m"
      ],
      "metadata": {
        "colab": {
          "base_uri": "https://localhost:8080/"
        },
        "id": "4otJY98O7FTm",
        "outputId": "6dc49378-37ef-4ab5-8675-4cc08ed54d24"
      },
      "id": "4otJY98O7FTm",
      "execution_count": 68,
      "outputs": [
        {
          "output_type": "execute_result",
          "data": {
            "text/plain": [
              "array([[65.05, 12.47, 20.03, 49.6 ],\n",
              "       [70.7 , 55.87, 46.9 , 53.95],\n",
              "       [50.58, 46.45, 54.6 , 73.91]])"
            ]
          },
          "metadata": {},
          "execution_count": 68
        }
      ]
    },
    {
      "cell_type": "code",
      "source": [
        "p"
      ],
      "metadata": {
        "colab": {
          "base_uri": "https://localhost:8080/"
        },
        "id": "ErkkcSxm7VSE",
        "outputId": "a29b89bf-a89a-4f4c-99b4-88edfe78ff5d"
      },
      "id": "ErkkcSxm7VSE",
      "execution_count": 69,
      "outputs": [
        {
          "output_type": "execute_result",
          "data": {
            "text/plain": [
              "array([0.13439785, 0.24513945, 0.30593924, 0.31452346])"
            ]
          },
          "metadata": {},
          "execution_count": 69
        }
      ]
    },
    {
      "cell_type": "code",
      "source": [
        "sum(p)"
      ],
      "metadata": {
        "colab": {
          "base_uri": "https://localhost:8080/"
        },
        "id": "jl8L7vim74tj",
        "outputId": "af71ba71-da47-492e-93f8-75fb4566f6c1"
      },
      "id": "jl8L7vim74tj",
      "execution_count": 70,
      "outputs": [
        {
          "output_type": "execute_result",
          "data": {
            "text/plain": [
              "1.0"
            ]
          },
          "metadata": {},
          "execution_count": 70
        }
      ]
    },
    {
      "cell_type": "code",
      "source": [
        "a"
      ],
      "metadata": {
        "colab": {
          "base_uri": "https://localhost:8080/"
        },
        "id": "HjbMVnDL7WqV",
        "outputId": "6d567262-1517-49fb-fd0c-71776f492656"
      },
      "id": "HjbMVnDL7WqV",
      "execution_count": 71,
      "outputs": [
        {
          "output_type": "execute_result",
          "data": {
            "text/plain": [
              "0.41"
            ]
          },
          "metadata": {},
          "execution_count": 71
        }
      ]
    },
    {
      "cell_type": "code",
      "execution_count": 72,
      "id": "4754bfe5",
      "metadata": {
        "id": "4754bfe5"
      },
      "outputs": [],
      "source": [
        "def bayes(matrix, probas):\n",
        "  matrix_np = np.array(matrix)\n",
        "  probas_np = np.array(probas)\n",
        "  output_matrix = matrix_np * probas_np[:, np.newaxis].T\n",
        "  output_vector = [sum(x) for x in output_matrix]\n",
        "  print(f'Критерий Байеса\\n{output_vector}')\n",
        "  best_strategy = np.argmax(output_vector) + 1\n",
        "  print(f'№ стратегии: {best_strategy}\\n')\n",
        "  return best_strategy"
      ]
    },
    {
      "cell_type": "code",
      "execution_count": 73,
      "id": "a1cbd146",
      "metadata": {
        "id": "a1cbd146"
      },
      "outputs": [],
      "source": [
        "def laplace(matrix):\n",
        "  matrix_np = np.array(matrix)\n",
        "  probas_np = np.array([1/len(matrix[0])] * len(matrix[0]))\n",
        "  output_matrix = matrix_np * probas_np[:, np.newaxis].T\n",
        "  output_vector = [sum(x) for x in output_matrix]\n",
        "  print(f'Критерий Лапласа\\n{output_vector}')\n",
        "  best_strategy = np.argmax(output_vector) + 1\n",
        "  print(f'№ стратегии: {best_strategy}\\n')\n",
        "  return best_strategy"
      ]
    },
    {
      "cell_type": "code",
      "execution_count": 74,
      "id": "b0004701",
      "metadata": {
        "id": "b0004701"
      },
      "outputs": [],
      "source": [
        "def vald(matrix):\n",
        "  output_vector = [min(x) for x in matrix]\n",
        "  print(f'Критерий Вальда\\n{output_vector}')\n",
        "  best_strategy = np.argmax(output_vector) + 1\n",
        "  print(f'№ стратегии: {best_strategy}\\n')\n",
        "  return best_strategy"
      ]
    },
    {
      "cell_type": "code",
      "execution_count": 75,
      "id": "98c6af19",
      "metadata": {
        "id": "98c6af19"
      },
      "outputs": [],
      "source": [
        "def gurviz(matrix, alf):\n",
        "  output_vector = [alf*min(x)+(1-alf)*max(x) for x in matrix]\n",
        "  print(f'Критерий Гурвица\\n{output_vector}')\n",
        "  best_strategy = np.argmax(output_vector) + 1\n",
        "  print(f'№ стратегии: {best_strategy}\\n')\n",
        "  return best_strategy"
      ]
    },
    {
      "cell_type": "code",
      "execution_count": 76,
      "id": "1dd7b9fd",
      "metadata": {
        "id": "1dd7b9fd"
      },
      "outputs": [],
      "source": [
        "def savig(matrix):\n",
        "  matrix_np = np.array(matrix)\n",
        "  max_values = matrix_np.max(axis=0)\n",
        "  output_vector = [- max(x) for x in max_values - matrix_np]\n",
        "  print(f'Критерий Севиджа\\n{output_vector}')\n",
        "  best_strategy = np.argmax(output_vector) + 1\n",
        "  print(f'№ стратегии: {best_strategy}\\n')\n",
        "  return best_strategy"
      ]
    },
    {
      "cell_type": "code",
      "execution_count": 80,
      "id": "ed971cce",
      "metadata": {
        "id": "ed971cce"
      },
      "outputs": [],
      "source": [
        "def get_strategies(m, p, a):\n",
        "  strategies = []\n",
        "  strategies.append(bayes(m, p))\n",
        "  strategies.append(laplace(m))\n",
        "  strategies.append(vald(m))\n",
        "  strategies.append(gurviz(m, a))\n",
        "  strategies.append(savig(m))\n",
        "  print('----'*12)\n",
        "  print(f'\\nЛучшая стратегия: {max(set(strategies), key=strategies.count)}')"
      ]
    },
    {
      "cell_type": "code",
      "execution_count": 81,
      "id": "f7b3ba44",
      "metadata": {
        "colab": {
          "base_uri": "https://localhost:8080/"
        },
        "id": "f7b3ba44",
        "outputId": "e5797dc0-646c-435e-d6d5-b3a0308e2e79"
      },
      "outputs": [
        {
          "output_type": "stream",
          "name": "stdout",
          "text": [
            "Критерий Байеса\n",
            "[33.52779589572026, 54.51496019360714, 58.13528214108972]\n",
            "№ стратегии: 3\n",
            "\n",
            "Критерий Лапласа\n",
            "[36.7875, 56.855000000000004, 56.385]\n",
            "№ стратегии: 2\n",
            "\n",
            "Критерий Вальда\n",
            "[12.47, 46.9, 46.45]\n",
            "№ стратегии: 2\n",
            "\n",
            "Критерий Гурвица\n",
            "[43.4922, 60.94200000000001, 62.6514]\n",
            "№ стратегии: 3\n",
            "\n",
            "Критерий Севиджа\n",
            "[-43.4, -19.959999999999994, -20.120000000000005]\n",
            "№ стратегии: 2\n",
            "\n",
            "------------------------------------------------\n",
            "\n",
            "Лучшая стратегия: 2\n"
          ]
        }
      ],
      "source": [
        "get_strategies(m, p, a)"
      ]
    }
  ],
  "metadata": {
    "kernelspec": {
      "display_name": "Python 3 (ipykernel)",
      "language": "python",
      "name": "python3"
    },
    "language_info": {
      "codemirror_mode": {
        "name": "ipython",
        "version": 3
      },
      "file_extension": ".py",
      "mimetype": "text/x-python",
      "name": "python",
      "nbconvert_exporter": "python",
      "pygments_lexer": "ipython3",
      "version": "3.9.13"
    },
    "toc": {
      "base_numbering": 1,
      "nav_menu": {},
      "number_sections": true,
      "sideBar": true,
      "skip_h1_title": true,
      "title_cell": "Table of Contents",
      "title_sidebar": "Contents",
      "toc_cell": true,
      "toc_position": {},
      "toc_section_display": true,
      "toc_window_display": false
    },
    "colab": {
      "provenance": []
    }
  },
  "nbformat": 4,
  "nbformat_minor": 5
}