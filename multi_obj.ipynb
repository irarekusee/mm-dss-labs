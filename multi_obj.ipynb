{
  "nbformat": 4,
  "nbformat_minor": 0,
  "metadata": {
    "colab": {
      "provenance": []
    },
    "kernelspec": {
      "name": "python3",
      "display_name": "Python 3"
    },
    "language_info": {
      "name": "python"
    }
  },
  "cells": [
    {
      "cell_type": "markdown",
      "source": [
        "**Сравнение методов решения многокритериальной задачи оптимизации**"
      ],
      "metadata": {
        "id": "x5ELDBTv_5MV"
      }
    },
    {
      "cell_type": "code",
      "execution_count": null,
      "metadata": {
        "id": "kt7KdY-r36yX"
      },
      "outputs": [],
      "source": [
        "import numpy as np\n",
        "import pandas as pd\n",
        "\n",
        "from scipy.optimize import linprog\n",
        "\n",
        "import matplotlib.pyplot as plt\n",
        "\n",
        "import warnings\n",
        "warnings.filterwarnings('ignore')"
      ]
    },
    {
      "cell_type": "markdown",
      "source": [
        "#####Генерация тестовых данных"
      ],
      "metadata": {
        "id": "vkijukrlu_6M"
      }
    },
    {
      "cell_type": "code",
      "source": [
        "np.random.seed(94)"
      ],
      "metadata": {
        "id": "BTEmjv4OAo4p"
      },
      "execution_count": null,
      "outputs": []
    },
    {
      "cell_type": "code",
      "source": [
        "A = np.zeros((5, 6), dtype=int)\n",
        "ri = np.random.randint(0, 5) # в какой строке будет 6\n",
        "rj = np.random.randint(0, 6) # в каком столбце будет 6\n",
        "for i in range(5):\n",
        "  for j in range(6):\n",
        "    if (i == ri) and (j == rj):\n",
        "      A[i, j] = 6\n",
        "    else:\n",
        "      A[i, j] = np.random.randint(1, 6)\n",
        "f3 = np.apply_along_axis(lambda x: np.sum(x), axis=0, arr=A)\n",
        "\n",
        "b = np.zeros(6, dtype=int)\n",
        "b[5] = np.random.randint(1000, 3500)\n",
        "\n",
        "f1 = np.zeros(6, dtype=int)\n",
        "f2 = np.zeros(6, dtype=int)\n",
        "for i in range(6):\n",
        "  f1[i] = np.random.randint(1, 5)\n",
        "  f2[i] = np.random.randint(7, 13)\n",
        "  if i != 5:\n",
        "    b[i] = np.random.randint(200, 401)\n",
        "A = np.vstack((A, f2))"
      ],
      "metadata": {
        "id": "mg0d3tbcuc-5"
      },
      "execution_count": null,
      "outputs": []
    },
    {
      "cell_type": "code",
      "source": [
        "A"
      ],
      "metadata": {
        "colab": {
          "base_uri": "https://localhost:8080/"
        },
        "id": "O56zgsU2zTYq",
        "outputId": "ba461276-0b76-4b34-ba60-19f8f24d7639"
      },
      "execution_count": null,
      "outputs": [
        {
          "output_type": "execute_result",
          "data": {
            "text/plain": [
              "array([[ 1,  4,  3,  2,  1,  4],\n",
              "       [ 1,  1,  1,  3,  2,  3],\n",
              "       [ 5,  2,  1,  3,  1,  4],\n",
              "       [ 1,  1,  6,  1,  4,  3],\n",
              "       [ 4,  3,  3,  4,  1,  2],\n",
              "       [ 7, 10,  9, 11,  7, 10]])"
            ]
          },
          "metadata": {},
          "execution_count": 4
        }
      ]
    },
    {
      "cell_type": "code",
      "source": [
        "b"
      ],
      "metadata": {
        "colab": {
          "base_uri": "https://localhost:8080/"
        },
        "id": "quYtJakO0Mid",
        "outputId": "d1038e1c-cf01-4a69-f00e-516b8256b9a9"
      },
      "execution_count": null,
      "outputs": [
        {
          "output_type": "execute_result",
          "data": {
            "text/plain": [
              "array([ 297,  229,  236,  263,  343, 3234])"
            ]
          },
          "metadata": {},
          "execution_count": 5
        }
      ]
    },
    {
      "cell_type": "code",
      "source": [
        "f1"
      ],
      "metadata": {
        "colab": {
          "base_uri": "https://localhost:8080/"
        },
        "id": "KpF7JwP60797",
        "outputId": "c922d6b8-89fd-468a-c585-7306e778f267"
      },
      "execution_count": null,
      "outputs": [
        {
          "output_type": "execute_result",
          "data": {
            "text/plain": [
              "array([2, 4, 2, 3, 2, 3])"
            ]
          },
          "metadata": {},
          "execution_count": 6
        }
      ]
    },
    {
      "cell_type": "code",
      "source": [
        "f2"
      ],
      "metadata": {
        "colab": {
          "base_uri": "https://localhost:8080/"
        },
        "id": "Oy6WWwxt093G",
        "outputId": "3c033c11-6cb6-4fef-b656-f2965a7a88fc"
      },
      "execution_count": null,
      "outputs": [
        {
          "output_type": "execute_result",
          "data": {
            "text/plain": [
              "array([ 7, 10,  9, 11,  7, 10])"
            ]
          },
          "metadata": {},
          "execution_count": 7
        }
      ]
    },
    {
      "cell_type": "code",
      "source": [
        "f3"
      ],
      "metadata": {
        "colab": {
          "base_uri": "https://localhost:8080/"
        },
        "id": "OJq8vGt_095U",
        "outputId": "046abe8b-0ffa-4efe-892c-1b5ad5664220"
      },
      "execution_count": null,
      "outputs": [
        {
          "output_type": "execute_result",
          "data": {
            "text/plain": [
              "array([12, 11, 14, 13,  9, 16])"
            ]
          },
          "metadata": {},
          "execution_count": 8
        }
      ]
    },
    {
      "cell_type": "markdown",
      "source": [
        "#####Индивидуальные экстремальные значения"
      ],
      "metadata": {
        "id": "gvTZk-dJ1EFq"
      }
    },
    {
      "cell_type": "code",
      "source": [
        "# Определим индивидуальные экстремальные значения критериев\n",
        "bnd = np.array([(10, 100), (10, 100), (10, 100),\n",
        "                (10, 100), (10, 100), (10, 100)])\n",
        "f1_opt = linprog(c=np.negative(f1), A_ub=A, b_ub=b, bounds=bnd)\n",
        "f2_opt = linprog(c=f2, A_ub=A, b_ub=b, bounds=bnd)\n",
        "f3_opt = linprog(c=f3, A_ub=A, b_ub=b, bounds=bnd)"
      ],
      "metadata": {
        "id": "puLjtbDjD9Zh"
      },
      "execution_count": null,
      "outputs": []
    },
    {
      "cell_type": "code",
      "source": [
        "# На полученных решениях вычислим значения критериев соответственно\n",
        "\n",
        "f2_f1opt, f3_f1opt = 0, 0\n",
        "f1_f2opt, f3_f2opt = 0, 0\n",
        "f1_f3opt, f2_f3opt = 0, 0\n",
        "\n",
        "for i in range(6):\n",
        "  f2_f1opt += f2[i]*f1_opt.x[i]\n",
        "  f3_f1opt += f3[i]*f1_opt.x[i]\n",
        "\n",
        "  f1_f2opt += f1[i]*f2_opt.x[i]\n",
        "  f3_f2opt += f3[i]*f2_opt.x[i]\n",
        "\n",
        "  f1_f3opt += f1[i]*f3_opt.x[i]\n",
        "  f2_f3opt += f2[i]*f3_opt.x[i]\n",
        "\n",
        "print(f\"f1*={-f1_opt.fun}, f2={f2_f1opt}, f3={f3_f1opt}\")\n",
        "print(f\"f2*={f2_opt.fun}, f1={f1_f2opt}, f3={f3_f2opt}\")\n",
        "print(f\"f3*={f3_opt.fun}, f1={f1_f3opt}, f2={f2_f3opt}\")"
      ],
      "metadata": {
        "colab": {
          "base_uri": "https://localhost:8080/"
        },
        "id": "IJPoHPmkn_qk",
        "outputId": "0e353535-076a-4c19-a055-fd77b46970a7"
      },
      "execution_count": null,
      "outputs": [
        {
          "output_type": "stream",
          "name": "stdout",
          "text": [
            "f1*=312.0, f2=957.1428571428571, f3=1233.0\n",
            "f2*=540.0, f1=160.0, f3=750.0\n",
            "f3*=750.0, f1=160.0, f2=540.0\n"
          ]
        }
      ]
    },
    {
      "cell_type": "markdown",
      "source": [
        "##Метод последовательных уступок"
      ],
      "metadata": {
        "id": "IhxIP8DVyKG7"
      }
    },
    {
      "cell_type": "markdown",
      "source": [
        "Поскольку наиболее приоритетной для фирмы является максимизация дохода со всех коммуникаций, критерий f1 - главный. Далее по значимости выбран (определили аналитики компании) критерий f2, так как затраты на проведение акций должны быть минимально возможными, а это означает, что наименьшим приоритетом обладает критерий f3, минимизирующий уровень предельной нагрузки каналов. Таким образом, порядок важности критериев: f1, f2, f3."
      ],
      "metadata": {
        "id": "8ts20KkSygTD"
      }
    },
    {
      "cell_type": "code",
      "source": [
        "def delta_method(percents):\n",
        "  x = []\n",
        "  y_f1 = []\n",
        "  y_f2 = []\n",
        "  y_f3 = []\n",
        "  for p in percents:\n",
        "    x.append(p)\n",
        "\n",
        "    new_A = np.vstack((A, np.negative(f1)))\n",
        "\n",
        "    ogr = -f1_opt.fun * (1 - p)\n",
        "    new_b = np.hstack((b, np.negative(np.array(ogr))))\n",
        "    y_f1.append(ogr)\n",
        "\n",
        "    print(f\"{'-'*15}\\nf1(индив.) = {-f1_opt.fun}; при уступке {round(p*100)}% f1* = {ogr}, Δ = {-f1_opt.fun - ogr}\")\n",
        "    print()\n",
        "\n",
        "    # Решаем задачу минимизации критерия f2\n",
        "    min_f2 = linprog(c=f2, A_ub=new_A, b_ub=new_b, bounds=bnd)\n",
        "\n",
        "    new_A = np.vstack((new_A, f2))\n",
        "\n",
        "    ogr = min_f2.fun * (1 + p)\n",
        "    new_b = np.hstack((new_b, np.array(ogr)))\n",
        "\n",
        "    y_f2.append(ogr)\n",
        "\n",
        "    print(f\"min f2 = {min_f2.fun}; при уступке {round(p*100)}% f2* = {ogr}, Δ = {abs(min_f2.fun - ogr)}\")\n",
        "\n",
        "    # Решаем задачу минимизации критерия f3\n",
        "    min_f3 = linprog(c=f3, A_ub=new_A, b_ub=new_b, bounds=bnd)\n",
        "\n",
        "    y_f3.append(min_f3.fun)\n",
        "\n",
        "    print(f\"f3* = {min_f3.fun}\")\n",
        "    print()\n",
        "    if p == 0.15:\n",
        "      print(min_f3.x)\n",
        "  return (x, y_f1, y_f2, y_f3)"
      ],
      "metadata": {
        "id": "8ZiSxKhhn_s8"
      },
      "execution_count": null,
      "outputs": []
    },
    {
      "cell_type": "code",
      "source": [
        "# Зададим величины уступки для критериев f1 и f2\n",
        "percents = [0.05, 0.1, 0.15, 0.2]\n",
        "\n",
        "x, y_f1, y_f2, y_f3 = delta_method(percents)"
      ],
      "metadata": {
        "id": "JGmgujA6sYDt",
        "colab": {
          "base_uri": "https://localhost:8080/"
        },
        "outputId": "93a9e52e-ef7b-4f4a-e974-814c6c1c288c"
      },
      "execution_count": null,
      "outputs": [
        {
          "output_type": "stream",
          "name": "stdout",
          "text": [
            "---------------\n",
            "f1(индив.) = 312.0; при уступке 5% f1* = 296.4, Δ = 15.600000000000023\n",
            "\n",
            "min f2 = 881.0; при уступке 5% f2* = 925.0500000000001, Δ = 44.05000000000007\n",
            "f3* = 1125.1\n",
            "\n",
            "---------------\n",
            "f1(индив.) = 312.0; при уступке 10% f1* = 280.8, Δ = 31.19999999999999\n",
            "\n",
            "min f2 = 842.0; при уступке 10% f2* = 926.2, Δ = 84.20000000000005\n",
            "f3* = 1082.2\n",
            "\n",
            "---------------\n",
            "f1(индив.) = 312.0; при уступке 15% f1* = 265.2, Δ = 46.80000000000001\n",
            "\n",
            "min f2 = 803.0; при уступке 15% f2* = 923.4499999999999, Δ = 120.44999999999993\n",
            "f3* = 1039.3\n",
            "\n",
            "[10.  36.3 10.  10.  10.  10. ]\n",
            "---------------\n",
            "f1(индив.) = 312.0; при уступке 20% f1* = 249.60000000000002, Δ = 62.39999999999998\n",
            "\n",
            "min f2 = 764.0; при уступке 20% f2* = 916.8, Δ = 152.79999999999995\n",
            "f3* = 996.4000000000001\n",
            "\n"
          ]
        }
      ]
    },
    {
      "cell_type": "code",
      "source": [
        "fig, ax = plt.subplots(nrows=1, ncols=3, figsize=(12, 4))\n",
        "plt.setp(ax, xticks=x, xticklabels=['5', '10', '15', '20'])\n",
        "\n",
        "ax[0].set_title(\"Доход со всех коммуникаций\")\n",
        "ax[0].scatter(x[2], y_f1[2], c='white', label=\"компромисс по f1\", marker=\"o\", s=150, edgecolors=\"blue\")\n",
        "ax[0].scatter(x, y_f1, c='m', label=\"max f1\", marker=\"+\")\n",
        "ax[1].set_title(\"Затраты на проведение акций\")\n",
        "ax[1].scatter(x[2], y_f2[2], c='white', label=\"компромисс по f2\", marker=\"o\", s=150, edgecolors=\"blue\")\n",
        "ax[1].scatter(x, y_f2, c='green', label=\"min f2\", marker=\"+\")\n",
        "ax[2].scatter(x[2], y_f3[2], c='white', label=\"компромисс по f3\", marker=\"o\", s=150, edgecolors=\"blue\")\n",
        "ax[2].set_title(\"Уровень предельной нагрузки\")\n",
        "ax[2].scatter(x, y_f3, c='red', label=\"min f3\", marker=\"+\")\n",
        "for i in range(3):\n",
        "  ax[i].set_xlabel(\"Величина уступки, %\")\n",
        "  ax[i].set_ylabel(\"Результат\")\n",
        "  ax[i].legend()\n",
        "\n",
        "fig.tight_layout()\n",
        "plt.show()"
      ],
      "metadata": {
        "colab": {
          "base_uri": "https://localhost:8080/",
          "height": 407
        },
        "id": "jwptdsC1g62C",
        "outputId": "4104d9bd-18ea-4fb2-e39c-6e31120c4fca"
      },
      "execution_count": null,
      "outputs": [
        {
          "output_type": "display_data",
          "data": {
            "text/plain": [
              "<Figure size 1200x400 with 3 Axes>"
            ],
            "image/png": "[encoded data removed]"
          },
          "metadata": {}
        }
      ]
    },
    {
      "cell_type": "markdown",
      "source": [
        "Таким образом, наилучшие компромиссные результаты достигаются при величине уступки в 15%:\n",
        "\n",
        "max *f1* = 265.2 (312 инд.)\n",
        "\n",
        "min *f2* = 923.4 (540 инд.)\n",
        "\n",
        "min *f3* = 1039.3 (750 инд.)"
      ],
      "metadata": {
        "id": "QZ3CvTMkISd-"
      }
    },
    {
      "cell_type": "markdown",
      "source": [
        "##Метод весовых коэффициентов"
      ],
      "metadata": {
        "id": "ud1stMC8O-TN"
      }
    },
    {
      "cell_type": "code",
      "source": [
        "# Зададим значения весовых коэффициентов для перебора\n",
        "alpha = [[0.55, 0.3, 0.15],\n",
        "         [0.6, 0.33, 0.07],\n",
        "         [0.65, 0.25, 0.1],\n",
        "         [0.7, 0.18, 0.12],\n",
        "         [0.75, 0.2, 0.05]]"
      ],
      "metadata": {
        "id": "gjvde4JbAtSB"
      },
      "execution_count": null,
      "outputs": []
    },
    {
      "cell_type": "code",
      "source": [
        "vals = []\n",
        "for a in alpha:\n",
        "  res_f1 = []\n",
        "  res_f2 = []\n",
        "  res_f3 = []\n",
        "  F = a[0]*f1/(-f1_opt.fun) - a[1]*f2/f2_opt.fun - a[2]*f3/f3_opt.fun\n",
        "  result = linprog(c=np.negative(F), A_ub=A, b_ub=b, bounds=bnd)\n",
        "  if a[0] == 0.65:\n",
        "    print(result.x)\n",
        "  for i in range(6):\n",
        "    res_f1.append(f1[i]*result.x[i])\n",
        "    res_f2.append(f2[i]*result.x[i])\n",
        "    res_f3.append(f3[i]*result.x[i])\n",
        "  res_f1.append(np.sum(res_f1))\n",
        "  res_f2.append(np.sum(res_f2))\n",
        "  res_f3.append(np.sum(res_f3))\n",
        "  vals.append([(a[0], a[1], a[2]), (res_f1[6], res_f2[6], res_f3[6])])"
      ],
      "metadata": {
        "id": "1weEexCAAtU4",
        "colab": {
          "base_uri": "https://localhost:8080/"
        },
        "outputId": "1887365f-1ad1-4025-c5f3-accf93ee81c1"
      },
      "execution_count": null,
      "outputs": [
        {
          "output_type": "stream",
          "name": "stdout",
          "text": [
            "[10.   46.75 10.   10.   10.   10.  ]\n"
          ]
        }
      ]
    },
    {
      "cell_type": "code",
      "source": [
        "vals"
      ],
      "metadata": {
        "colab": {
          "base_uri": "https://localhost:8080/"
        },
        "id": "3zRFbCPMi8dJ",
        "outputId": "c1492172-81dd-475b-f50c-37e27369e560"
      },
      "execution_count": null,
      "outputs": [
        {
          "output_type": "execute_result",
          "data": {
            "text/plain": [
              "[[(0.55, 0.3, 0.15), (160.0, 540.0, 750.0)],\n",
              " [(0.6, 0.33, 0.07), (307.0, 907.5, 1154.25)],\n",
              " [(0.65, 0.25, 0.1), (307.0, 907.5, 1154.25)],\n",
              " [(0.7, 0.18, 0.12), (307.0, 907.5, 1154.25)],\n",
              " [(0.75, 0.2, 0.05), (312.0, 930.0, 1185.5)]]"
            ]
          },
          "metadata": {},
          "execution_count": 16
        }
      ]
    },
    {
      "cell_type": "code",
      "source": [
        "fig, ax = plt.subplots(nrows=1, ncols=3, figsize=(12, 4))\n",
        "\n",
        "ax[0].set_title(\"Доход со всех коммуникаций\")\n",
        "ax[1].set_title(\"Затраты на проведение акций\")\n",
        "ax[2].set_title(\"Уровень предельной нагрузки\")\n",
        "\n",
        "for i in range(5):\n",
        "  ax[0].scatter(vals[i][0][0], vals[i][1][0], c='m', marker=\"x\", s=80)\n",
        "  ax[0].annotate(f\"test {i+1}\", (vals[i][0][0], vals[i][1][0]))\n",
        "\n",
        "  ax[1].scatter(vals[i][0][1], vals[i][1][1], c='green', marker=\"x\", s=80)\n",
        "  ax[1].annotate(f\"test {i+1}\", (vals[i][0][1], vals[i][1][1]))\n",
        "\n",
        "  ax[2].scatter(vals[i][0][2], vals[i][1][2], c='red', marker=\"x\", s=80)\n",
        "  ax[2].annotate(f\"test {i+1}\", (vals[i][0][2], vals[i][1][2]))\n",
        "\n",
        "for i in range(3):\n",
        "  ax[i].set_xlabel(\"Весовой коэффициент alpha\")\n",
        "  ax[i].set_ylabel(\"Результат\")\n",
        "\n",
        "fig.tight_layout()\n",
        "plt.show()"
      ],
      "metadata": {
        "id": "8aX19QxHn_2k",
        "colab": {
          "base_uri": "https://localhost:8080/",
          "height": 407
        },
        "outputId": "924e9331-aa78-41ed-c792-cddeb30273ec"
      },
      "execution_count": null,
      "outputs": [
        {
          "output_type": "display_data",
          "data": {
            "text/plain": [
              "<Figure size 1200x400 with 3 Axes>"
            ],
            "image/png": "[encoded data removed]"
          },
          "metadata": {}
        }
      ]
    },
    {
      "cell_type": "markdown",
      "source": [
        "Таким образом, близкий к методу последовательных уступок результат можно получить, например, при следующих значениях весовых коэффициентов: (0.65, 0.25, 0.1). Тогда имеем:\n",
        "\n",
        "max *f1* = 307 (265.2 уст.) (312 инд.)\n",
        "\n",
        "min *f2* = 907.5 (923.4 уст.) (540 инд.)\n",
        "\n",
        "min *f3* = 1154.25 (1039.3 уст.) (750 инд.)"
      ],
      "metadata": {
        "id": "-EupXfB8n712"
      }
    },
    {
      "cell_type": "markdown",
      "source": [
        "##Метод компромиссной переменной"
      ],
      "metadata": {
        "id": "vNqvk3NTNExK"
      }
    },
    {
      "cell_type": "code",
      "source": [
        "# Введем компромиссную переменную и доп. ограничения\n",
        "new_A = np.hstack((A, np.zeros((6, 1), dtype=int)))\n",
        "\n",
        "new_A = np.vstack((new_A, np.hstack((np.negative(f1), np.negative(-f1_opt.fun)))))\n",
        "new_b = np.hstack((b, np.negative(-f1_opt.fun)))\n",
        "\n",
        "new_A = np.vstack((new_A, np.hstack((f2, -f2_opt.fun))))\n",
        "new_b = np.hstack((new_b, f2_opt.fun))\n",
        "\n",
        "new_A = np.vstack((new_A, np.hstack((f3, -f3_opt.fun))))\n",
        "new_b = np.hstack((new_b, f3_opt.fun))\n",
        "\n",
        "new_bnd = np.vstack((bnd, np.array([(0, float(\"inf\"))])))\n",
        "\n",
        "# Минимизируем вспомогательную целевую функцию\n",
        "F = np.array([0, 0, 0, 0, 0, 0, 1])\n",
        "F_min = linprog(c=F, A_ub=new_A, b_ub=new_b, bounds=new_bnd)"
      ],
      "metadata": {
        "id": "pNQPTqlAOcmN"
      },
      "execution_count": null,
      "outputs": []
    },
    {
      "cell_type": "code",
      "source": [
        "F_min.fun"
      ],
      "metadata": {
        "colab": {
          "base_uri": "https://localhost:8080/"
        },
        "id": "T5spd-R8VRwo",
        "outputId": "4546a793-7bdf-4e88-fd7a-8ab863750869"
      },
      "execution_count": null,
      "outputs": [
        {
          "output_type": "execute_result",
          "data": {
            "text/plain": [
              "0.28787878787878785"
            ]
          },
          "metadata": {},
          "execution_count": 19
        }
      ]
    },
    {
      "cell_type": "code",
      "source": [
        "F_min.x"
      ],
      "metadata": {
        "colab": {
          "base_uri": "https://localhost:8080/"
        },
        "id": "LtxEwqbgEUVI",
        "outputId": "38e31fd2-cc7d-4725-8ee5-c3039b307abf"
      },
      "execution_count": null,
      "outputs": [
        {
          "output_type": "execute_result",
          "data": {
            "text/plain": [
              "array([10.        , 25.54545455, 10.        , 10.        , 10.        ,\n",
              "       10.        ,  0.28787879])"
            ]
          },
          "metadata": {},
          "execution_count": 38
        }
      ]
    },
    {
      "cell_type": "markdown",
      "source": [
        "Значение z* = 0.2879 показывает, что относительные отклонения компромиссных значений критериев f1, f2 и f3 от их индивидуальных оптимальных величин не превышает 29%."
      ],
      "metadata": {
        "id": "dYnHqsYnVWZB"
      }
    },
    {
      "cell_type": "code",
      "source": [
        "f1_z, f2_z, f3_z = 0, 0, 0\n",
        "for i in range(6):\n",
        "  f1_z += f1[i]*F_min.x[i]\n",
        "  f2_z += f2[i]*F_min.x[i]\n",
        "  f3_z += f3[i]*F_min.x[i]\n",
        "print(f\"f1 = {f1_z}\\nf2 = {f2_z}\\nf3 = {f3_z}\")"
      ],
      "metadata": {
        "colab": {
          "base_uri": "https://localhost:8080/"
        },
        "id": "3AWKHmDeNEX9",
        "outputId": "0d9076cd-a929-40c9-aa51-ada7b1c17141"
      },
      "execution_count": null,
      "outputs": [
        {
          "output_type": "stream",
          "name": "stdout",
          "text": [
            "f1 = 222.1818181818182\n",
            "f2 = 695.4545454545455\n",
            "f3 = 921.0\n"
          ]
        }
      ]
    },
    {
      "cell_type": "markdown",
      "source": [
        "Таким образом, при решении задачи с помощью метода компромиссной переменной получены следующие результаты:\n",
        "\n",
        "max *f1* = 222.18 (307 вес.) (265.2 уст.) (312 инд.)\n",
        "\n",
        "min *f2* = 695.45 (907.5 вес.) (923.4 уст.) (540 инд.)\n",
        "\n",
        "min *f3* = 921 (1154.25 вес.) (1039.3 уст.) (750 инд.)"
      ],
      "metadata": {
        "id": "9RK0Y0V9WnYh"
      }
    },
    {
      "cell_type": "markdown",
      "source": [
        "##Метод равных отклонений"
      ],
      "metadata": {
        "id": "aZK2_-2gXQOx"
      }
    },
    {
      "cell_type": "code",
      "source": [
        "# Построим замещающую задачу, добавив новые переменные и оганичения\n",
        "new_A = np.hstack((A, np.zeros((6, 6))))"
      ],
      "metadata": {
        "id": "IchWI1ScajSt"
      },
      "execution_count": null,
      "outputs": []
    },
    {
      "cell_type": "code",
      "source": [
        "new_A"
      ],
      "metadata": {
        "colab": {
          "base_uri": "https://localhost:8080/"
        },
        "id": "ipT316OgaumO",
        "outputId": "59ecd0fb-d977-4e96-fd97-f879d0081d37"
      },
      "execution_count": null,
      "outputs": [
        {
          "output_type": "execute_result",
          "data": {
            "text/plain": [
              "array([[ 1.,  4.,  3.,  2.,  1.,  4.,  0.,  0.,  0.,  0.,  0.,  0.],\n",
              "       [ 1.,  1.,  1.,  3.,  2.,  3.,  0.,  0.,  0.,  0.,  0.,  0.],\n",
              "       [ 5.,  2.,  1.,  3.,  1.,  4.,  0.,  0.,  0.,  0.,  0.,  0.],\n",
              "       [ 1.,  1.,  6.,  1.,  4.,  3.,  0.,  0.,  0.,  0.,  0.,  0.],\n",
              "       [ 4.,  3.,  3.,  4.,  1.,  2.,  0.,  0.,  0.,  0.,  0.,  0.],\n",
              "       [ 7., 10.,  9., 11.,  7., 10.,  0.,  0.,  0.,  0.,  0.,  0.]])"
            ]
          },
          "metadata": {},
          "execution_count": 26
        }
      ]
    },
    {
      "cell_type": "code",
      "source": [
        "eq_f1 = np.hstack((f1, np.negative(f1)))\n",
        "\n",
        "eq_f2 = np.hstack((f2, np.negative(f2)))\n",
        "eq_A = np.vstack((eq_f1, eq_f2))\n",
        "\n",
        "eq_f3 = np.hstack((f3, np.negative(f3)))\n",
        "eq_A = np.vstack((eq_A, eq_f3))\n",
        "eq_A"
      ],
      "metadata": {
        "colab": {
          "base_uri": "https://localhost:8080/"
        },
        "id": "QpzaLAjncMby",
        "outputId": "e45106bf-cbf5-4a10-9f72-b26d8707b729"
      },
      "execution_count": null,
      "outputs": [
        {
          "output_type": "execute_result",
          "data": {
            "text/plain": [
              "array([[  2,   4,   2,   3,   2,   3,  -2,  -4,  -2,  -3,  -2,  -3],\n",
              "       [  7,  10,   9,  11,   7,  10,  -7, -10,  -9, -11,  -7, -10],\n",
              "       [ 12,  11,  14,  13,   9,  16, -12, -11, -14, -13,  -9, -16]])"
            ]
          },
          "metadata": {},
          "execution_count": 27
        }
      ]
    },
    {
      "cell_type": "code",
      "source": [
        "f1_ratio = f1/-f1_opt.fun\n",
        "f2_ratio = f2/f2_opt.fun\n",
        "f3_ratio = f3/f3_opt.fun"
      ],
      "metadata": {
        "id": "SPr4kW8ne2An"
      },
      "execution_count": null,
      "outputs": []
    },
    {
      "cell_type": "code",
      "source": [
        "eq_A = np.vstack((eq_A, np.hstack((f1_ratio, f2_ratio))))\n",
        "eq_A = np.vstack((eq_A, np.hstack((f1_ratio, f3_ratio))))"
      ],
      "metadata": {
        "id": "f7w8Eqdadjnn"
      },
      "execution_count": null,
      "outputs": []
    },
    {
      "cell_type": "code",
      "source": [
        "new_bnd = np.vstack((bnd, bnd))"
      ],
      "metadata": {
        "id": "TQW-pUI5j9Ay"
      },
      "execution_count": null,
      "outputs": []
    },
    {
      "cell_type": "code",
      "source": [
        "eq_b = np.array([0, 0, 0, 2, 2])"
      ],
      "metadata": {
        "id": "SVcRuVg6cTbs"
      },
      "execution_count": null,
      "outputs": []
    },
    {
      "cell_type": "code",
      "source": [
        "new_A.shape"
      ],
      "metadata": {
        "colab": {
          "base_uri": "https://localhost:8080/"
        },
        "id": "KVCOz2l7lLtj",
        "outputId": "f5dea741-be06-46ed-83ea-863904701de6"
      },
      "execution_count": null,
      "outputs": [
        {
          "output_type": "execute_result",
          "data": {
            "text/plain": [
              "(6, 12)"
            ]
          },
          "metadata": {},
          "execution_count": 32
        }
      ]
    },
    {
      "cell_type": "code",
      "source": [
        "new_f1 = np.hstack((f1, np.zeros(6)))"
      ],
      "metadata": {
        "id": "IrfwQCOtlPJP"
      },
      "execution_count": null,
      "outputs": []
    },
    {
      "cell_type": "code",
      "source": [
        "# Решим задачу максимизации по главному критерию f1\n",
        "f1_max = linprog(c=np.negative(new_f1), A_ub=new_A, b_ub=b,\n",
        "                 A_eq=eq_A, b_eq=eq_b, bounds=new_bnd)"
      ],
      "metadata": {
        "id": "2cbw-gJGeH__"
      },
      "execution_count": null,
      "outputs": []
    },
    {
      "cell_type": "code",
      "source": [
        "f1_max.x[:6]"
      ],
      "metadata": {
        "colab": {
          "base_uri": "https://localhost:8080/"
        },
        "id": "wL4a-L0QF-AT",
        "outputId": "c18de7f8-9e6d-4ad9-e48f-fd0be00443b7"
      },
      "execution_count": null,
      "outputs": [
        {
          "output_type": "execute_result",
          "data": {
            "text/plain": [
              "array([21.05145414, 18.71364653, 10.        , 10.        , 10.        ,\n",
              "       10.        ])"
            ]
          },
          "metadata": {},
          "execution_count": 42
        }
      ]
    },
    {
      "cell_type": "code",
      "source": [
        "res_f2, res_f3 = 0, 0\n",
        "for i in range(6):\n",
        "  res_f2 += f2[i]*f1_max.x[i]\n",
        "  res_f3 += f3[i]*f1_max.x[i]\n",
        "print(f\"f1 = {-f1_max.fun}\\nf2 = {res_f2}\\nf3 = {res_f3}\")"
      ],
      "metadata": {
        "colab": {
          "base_uri": "https://localhost:8080/"
        },
        "id": "BItUT0bieIyc",
        "outputId": "2d776f71-dd99-46f9-a4d7-a25cfcc86419"
      },
      "execution_count": null,
      "outputs": [
        {
          "output_type": "stream",
          "name": "stdout",
          "text": [
            "f1 = 216.95749440715883\n",
            "f2 = 704.4966442953021\n",
            "f3 = 978.4675615212531\n"
          ]
        }
      ]
    },
    {
      "cell_type": "markdown",
      "source": [
        "Таким образом, при решении задачи с помощью метода равных отклонений получены следующие результаты:\n",
        "\n",
        "max *f1* = 216.96 (222.18 компр.) (307 вес.) (265.2 уст.) (312 инд.)\n",
        "\n",
        "min *f2* = 704.5 (695.45 компр.) (907.5 вес.) (923.4 уст.) (540 инд.)\n",
        "\n",
        "min *f3* = 978.47 (921 компр.) (1154.25 вес.) (1039.3 уст.) (750 инд.)"
      ],
      "metadata": {
        "id": "Q69QbU-plpbh"
      }
    },
    {
      "cell_type": "markdown",
      "source": [
        "#####Вывод\n",
        "\n",
        "\n",
        "При использовании различных методов при решении многокритериальных задач возможен разброс результатов. Наиболее близкие к индивидуальным экстремальным значениям критериев результаты решения задачи линейной оптимизации на сгенерированных данных были получены с помощью метода компромиссной переменной."
      ],
      "metadata": {
        "id": "fGpfms_I1YfY"
      }
    }
  ]
}